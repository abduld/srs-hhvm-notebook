{
 "metadata": {
  "name": ""
 },
 "nbformat": 3,
 "nbformat_minor": 0,
 "worksheets": [
  {
   "cells": [
    {
     "cell_type": "code",
     "collapsed": false,
     "input": [
      "import pandas as pd\n",
      "import numpy as np\n",
      "import matplotlib.pyplot as plt\n",
      "import itertools as itt"
     ],
     "language": "python",
     "metadata": {},
     "outputs": [],
     "prompt_number": 1
    },
    {
     "cell_type": "code",
     "collapsed": false,
     "input": [
      "d = pd.read_csv('modified_stats.csv', header=None, names=['type', 'desc', 'hint', 'size', 'lifespan', 'interesting'])"
     ],
     "language": "python",
     "metadata": {},
     "outputs": [],
     "prompt_number": 2
    },
    {
     "cell_type": "code",
     "collapsed": false,
     "input": [
      "d[d.type > 0]['size'].apply(np.log2).round().hist()"
     ],
     "language": "python",
     "metadata": {},
     "outputs": [
      {
       "metadata": {},
       "output_type": "pyout",
       "prompt_number": 11,
       "text": [
        "<matplotlib.axes.AxesSubplot at 0x7f6f2a6a7dd0>"
       ]
      }
     ],
     "prompt_number": 11
    },
    {
     "cell_type": "code",
     "collapsed": false,
     "input": [
      "modified_mem = [ a * b for (a, b) in zip(d['size'], d['type']) ]\n",
      "active_mem = list(itt.accumulate(modified_mem))\n",
      "allocd_mem = list(itt.accumulate(modified_mem,\n",
      "                                 lambda x, y: x + y if y > 0 else x))\n",
      "plt.plot(allocd_mem, active_mem)"
     ],
     "language": "python",
     "metadata": {},
     "outputs": [
      {
       "metadata": {},
       "output_type": "pyout",
       "prompt_number": 87,
       "text": [
        "[<matplotlib.lines.Line2D at 0x7f6f18aa6410>]"
       ]
      }
     ],
     "prompt_number": 87
    },
    {
     "cell_type": "code",
     "collapsed": false,
     "input": [
      "d.head()"
     ],
     "language": "python",
     "metadata": {},
     "outputs": [
      {
       "html": [
        "<div style=\"max-height:1000px;max-width:1500px;overflow:auto;\">\n",
        "<table border=\"1\" class=\"dataframe\">\n",
        "  <thead>\n",
        "    <tr style=\"text-align: right;\">\n",
        "      <th></th>\n",
        "      <th>type</th>\n",
        "      <th>desc</th>\n",
        "      <th>hint</th>\n",
        "      <th>size</th>\n",
        "      <th>lifespan</th>\n",
        "      <th>interesting</th>\n",
        "    </tr>\n",
        "  </thead>\n",
        "  <tbody>\n",
        "    <tr>\n",
        "      <th>0</th>\n",
        "      <td> 1</td>\n",
        "      <td> smartMallocSize</td>\n",
        "      <td> NaN</td>\n",
        "      <td> 248</td>\n",
        "      <td>NaN</td>\n",
        "      <td> 0</td>\n",
        "    </tr>\n",
        "    <tr>\n",
        "      <th>1</th>\n",
        "      <td> 1</td>\n",
        "      <td> smartMallocSize</td>\n",
        "      <td> NaN</td>\n",
        "      <td>  32</td>\n",
        "      <td>NaN</td>\n",
        "      <td> 0</td>\n",
        "    </tr>\n",
        "    <tr>\n",
        "      <th>2</th>\n",
        "      <td>-1</td>\n",
        "      <td>   smartFreeSize</td>\n",
        "      <td> NaN</td>\n",
        "      <td>  32</td>\n",
        "      <td> 32</td>\n",
        "      <td> 0</td>\n",
        "    </tr>\n",
        "    <tr>\n",
        "      <th>3</th>\n",
        "      <td> 1</td>\n",
        "      <td> smartMallocSize</td>\n",
        "      <td> NaN</td>\n",
        "      <td>  32</td>\n",
        "      <td>NaN</td>\n",
        "      <td> 0</td>\n",
        "    </tr>\n",
        "    <tr>\n",
        "      <th>4</th>\n",
        "      <td>-1</td>\n",
        "      <td>   smartFreeSize</td>\n",
        "      <td> NaN</td>\n",
        "      <td>  32</td>\n",
        "      <td> 32</td>\n",
        "      <td> 0</td>\n",
        "    </tr>\n",
        "  </tbody>\n",
        "</table>\n",
        "</div>"
       ],
       "metadata": {},
       "output_type": "pyout",
       "prompt_number": 122,
       "text": [
        "   type             desc hint  size  lifespan  interesting\n",
        "0     1  smartMallocSize  NaN   248       NaN            0\n",
        "1     1  smartMallocSize  NaN    32       NaN            0\n",
        "2    -1    smartFreeSize  NaN    32        32            0\n",
        "3     1  smartMallocSize  NaN    32       NaN            0\n",
        "4    -1    smartFreeSize  NaN    32        32            0"
       ]
      }
     ],
     "prompt_number": 122
    },
    {
     "cell_type": "code",
     "collapsed": false,
     "input": [
      "# split the entire memory into n_slices number of 'slices'\n",
      "# each 'slice' represents 2<<16 bytes of allocated memory.\n",
      "# plot each slice over the other to see how they are allocated and deallocated.\n",
      "\n",
      "slice_size = 2 << 16\n",
      "total_allocated = allocd_mem[-1] + (2<<20)\n",
      "n_slices = total_allocated // slice_size + 1\n",
      "\n",
      "slices = np.empty([len(allocd_mem), n_slices], dtype=int)\n",
      "\n",
      "cut = np.zeros([n_slices], dtype=int)\n",
      "\n",
      "for idx, row in d.iterrows():\n",
      "    if row['type'] > 0:\n",
      "        which_slice = allocd_mem[idx] // slice_size\n",
      "        cut[which_slice] += row['size']\n",
      "        slices[idx] = cut\n",
      "    elif row['lifespan'] > 0:\n",
      "        which_slice = (allocd_mem[idx] - row['lifespan'] + row['size'] + (2<<20)) // slice_size\n",
      "        cut[which_slice] -= row['size']\n",
      "        slices[idx] = cut\n",
      "plt.stackplot(allocd_mem, slices.transpose(), baseline='zero',\n",
      "              colors=['#ffffff', '#ffffff', '#ffffff', '#ffffff', '#cccccc'])"
     ],
     "language": "python",
     "metadata": {},
     "outputs": [
      {
       "metadata": {},
       "output_type": "pyout",
       "prompt_number": 150,
       "text": [
        "[<matplotlib.collections.PolyCollection at 0x7f6f187a0a90>,\n",
        " <matplotlib.collections.PolyCollection at 0x7f6f187a0c10>,\n",
        " <matplotlib.collections.PolyCollection at 0x7f6f1879b510>,\n",
        " <matplotlib.collections.PolyCollection at 0x7f6f1879bdd0>,\n",
        " <matplotlib.collections.PolyCollection at 0x7f6f187953d0>,\n",
        " <matplotlib.collections.PolyCollection at 0x7f6f187a0a10>,\n",
        " <matplotlib.collections.PolyCollection at 0x7f6f18790390>,\n",
        " <matplotlib.collections.PolyCollection at 0x7f6f18790d50>,\n",
        " <matplotlib.collections.PolyCollection at 0x7f6f1878b350>,\n",
        " <matplotlib.collections.PolyCollection at 0x7f6f1878bad0>,\n",
        " <matplotlib.collections.PolyCollection at 0x7f6f18795d90>,\n",
        " <matplotlib.collections.PolyCollection at 0x7f6f18786750>,\n",
        " <matplotlib.collections.PolyCollection at 0x7f6f18786f10>,\n",
        " <matplotlib.collections.PolyCollection at 0x7f6f18783710>,\n",
        " <matplotlib.collections.PolyCollection at 0x7f6f18783ed0>,\n",
        " <matplotlib.collections.PolyCollection at 0x7f6f1878bf50>,\n",
        " <matplotlib.collections.PolyCollection at 0x7f6f18696e50>,\n",
        " <matplotlib.collections.PolyCollection at 0x7f6f1869b310>,\n",
        " <matplotlib.collections.PolyCollection at 0x7f6f1869bcd0>,\n",
        " <matplotlib.collections.PolyCollection at 0x7f6f1869f2d0>,\n",
        " <matplotlib.collections.PolyCollection at 0x7f6f186966d0>,\n",
        " <matplotlib.collections.PolyCollection at 0x7f6f186a4290>,\n",
        " <matplotlib.collections.PolyCollection at 0x7f6f186a4c50>,\n",
        " <matplotlib.collections.PolyCollection at 0x7f6f186a90d0>,\n",
        " <matplotlib.collections.PolyCollection at 0x7f6f186a9910>,\n",
        " <matplotlib.collections.PolyCollection at 0x7f6f1869fc90>,\n",
        " <matplotlib.collections.PolyCollection at 0x7f6f186ad6d0>,\n",
        " <matplotlib.collections.PolyCollection at 0x7f6f186ad8d0>,\n",
        " <matplotlib.collections.PolyCollection at 0x7f6f186b2690>,\n",
        " <matplotlib.collections.PolyCollection at 0x7f6f186b2f90>,\n",
        " <matplotlib.collections.PolyCollection at 0x7f6f186a9ed0>,\n",
        " <matplotlib.collections.PolyCollection at 0x7f6f186b7c90>,\n",
        " <matplotlib.collections.PolyCollection at 0x7f6f186bc290>,\n",
        " <matplotlib.collections.PolyCollection at 0x7f6f186bcc50>,\n",
        " <matplotlib.collections.PolyCollection at 0x7f6f18691250>,\n",
        " <matplotlib.collections.PolyCollection at 0x7f6f186b7410>,\n",
        " <matplotlib.collections.PolyCollection at 0x7f6f3a8350d0>,\n",
        " <matplotlib.collections.PolyCollection at 0x7f6f3a83ce50>,\n",
        " <matplotlib.collections.PolyCollection at 0x7f6f3a8437d0>,\n",
        " <matplotlib.collections.PolyCollection at 0x7f6f3a8455d0>,\n",
        " <matplotlib.collections.PolyCollection at 0x7f6f18691c10>,\n",
        " <matplotlib.collections.PolyCollection at 0x7f6f18678dd0>,\n",
        " <matplotlib.collections.PolyCollection at 0x7f6f196e4450>,\n",
        " <matplotlib.collections.PolyCollection at 0x7f6f196e4e10>,\n",
        " <matplotlib.collections.PolyCollection at 0x7f6f196eb410>,\n",
        " <matplotlib.collections.PolyCollection at 0x7f6f1867b4d0>,\n",
        " <matplotlib.collections.PolyCollection at 0x7f6f196ebf90>,\n",
        " <matplotlib.collections.PolyCollection at 0x7f6f196f0790>,\n",
        " <matplotlib.collections.PolyCollection at 0x7f6f196f0f50>,\n",
        " <matplotlib.collections.PolyCollection at 0x7f6f196f3750>,\n",
        " <matplotlib.collections.PolyCollection at 0x7f6f196ebad0>,\n",
        " <matplotlib.collections.PolyCollection at 0x7f6f196f8710>,\n",
        " <matplotlib.collections.PolyCollection at 0x7f6f196f8d90>,\n",
        " <matplotlib.collections.PolyCollection at 0x7f6f196fe350>,\n",
        " <matplotlib.collections.PolyCollection at 0x7f6f196fed10>,\n",
        " <matplotlib.collections.PolyCollection at 0x7f6f196f3f10>,\n",
        " <matplotlib.collections.PolyCollection at 0x7f6f19701cd0>,\n",
        " <matplotlib.collections.PolyCollection at 0x7f6f197082d0>,\n",
        " <matplotlib.collections.PolyCollection at 0x7f6f19708c10>,\n",
        " <matplotlib.collections.PolyCollection at 0x7f6f19708fd0>,\n",
        " <matplotlib.collections.PolyCollection at 0x7f6f19701310>,\n",
        " <matplotlib.collections.PolyCollection at 0x7f6f196d9810>,\n",
        " <matplotlib.collections.PolyCollection at 0x7f6f196de690>,\n",
        " <matplotlib.collections.PolyCollection at 0x7f6f196def90>,\n",
        " <matplotlib.collections.PolyCollection at 0x7f6f1969c650>,\n",
        " <matplotlib.collections.PolyCollection at 0x7f6f196d9710>,\n",
        " <matplotlib.collections.PolyCollection at 0x7f6f196c8310>,\n",
        " <matplotlib.collections.PolyCollection at 0x7f6f196c8c50>,\n",
        " <matplotlib.collections.PolyCollection at 0x7f6f196c4250>,\n",
        " <matplotlib.collections.PolyCollection at 0x7f6f196c4c10>,\n",
        " <matplotlib.collections.PolyCollection at 0x7f6f1969cf10>,\n",
        " <matplotlib.collections.PolyCollection at 0x7f6f196c0bd0>,\n",
        " <matplotlib.collections.PolyCollection at 0x7f6f196bc1d0>,\n",
        " <matplotlib.collections.PolyCollection at 0x7f6f196bc810>,\n",
        " <matplotlib.collections.PolyCollection at 0x7f6f196bcfd0>,\n",
        " <matplotlib.collections.PolyCollection at 0x7f6f196c0210>,\n",
        " <matplotlib.collections.PolyCollection at 0x7f6f196b6f90>,\n",
        " <matplotlib.collections.PolyCollection at 0x7f6f196b2590>,\n",
        " <matplotlib.collections.PolyCollection at 0x7f6f196b2f50>]"
       ]
      }
     ],
     "prompt_number": 150
    },
    {
     "cell_type": "code",
     "collapsed": false,
     "input": [
      "# plt.plot(allocd_mem, active_mem)\n",
      "mem_int = [ a * b * c for (a, b, c) in zip(d['size'], d['type'], d['interesting']) ]\n",
      "mem_other = [ a * b if c == 0 else 0 for (a, b, c) in zip(d['size'], d['type'], d['interesting']) ]\n",
      "interesting_accumulation = list(itt.accumulate(mem_int, lambda x, y: x+y if y>0 else x))"
     ],
     "language": "python",
     "metadata": {},
     "outputs": [],
     "prompt_number": 120
    },
    {
     "cell_type": "code",
     "collapsed": false,
     "input": [
      "plt.plot(interesting_accumulation, list(itt.accumulate(mem_int)), \"b\", interesting_accumulation, list(itt.accumulate(mem_other)), \"r\")"
     ],
     "language": "python",
     "metadata": {},
     "outputs": [
      {
       "metadata": {},
       "output_type": "pyout",
       "prompt_number": 7,
       "text": [
        "[<matplotlib.lines.Line2D at 0x7f6f38a1d6d0>,\n",
        " <matplotlib.lines.Line2D at 0x7f6f38a1dad0>]"
       ]
      }
     ],
     "prompt_number": 7
    },
    {
     "cell_type": "code",
     "collapsed": false,
     "input": [
      "scaled_sizes = di.dropna(how='any')['size'].apply(np.log2).round()\n",
      "unscaled_lifespans = d.dropna(how='any')['lifespan']\n",
      "workset = pd.DataFrame({'size' : scaled_sizes,\n",
      "                        'lifespan' : unscaled_lifespans})\n",
      "rows = np.random.choice(workset.index.values, 4096)\n",
      "sampled_workset = workset.ix[rows]\n",
      "\n",
      "plot = sampled_workset.boxplot(by='size', column='lifespan')\n",
      "plt.yscale('log', basey=2)"
     ],
     "language": "python",
     "metadata": {},
     "outputs": [],
     "prompt_number": 8
    },
    {
     "cell_type": "code",
     "collapsed": false,
     "input": [],
     "language": "python",
     "metadata": {},
     "outputs": [],
     "prompt_number": 102
    },
    {
     "cell_type": "code",
     "collapsed": false,
     "input": [],
     "language": "python",
     "metadata": {},
     "outputs": []
    }
   ],
   "metadata": {}
  }
 ]
}
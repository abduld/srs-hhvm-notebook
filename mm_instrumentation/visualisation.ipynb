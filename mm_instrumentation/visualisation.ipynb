{
 "metadata": {
  "name": ""
 },
 "nbformat": 3,
 "nbformat_minor": 0,
 "worksheets": [
  {
   "cells": [
    {
     "cell_type": "code",
     "collapsed": false,
     "input": [
      "import pandas as pd\n",
      "import numpy as np\n",
      "import matplotlib.pyplot as plt\n",
      "import itertools as itt"
     ],
     "language": "python",
     "metadata": {},
     "outputs": [],
     "prompt_number": 11
    },
    {
     "cell_type": "code",
     "collapsed": false,
     "input": [
      "d = pd.read_csv('stats.csv', header=None, names=['type', 'desc', 'hint', 'size', 'lifespan', 'interesting'])"
     ],
     "language": "python",
     "metadata": {},
     "outputs": [],
     "prompt_number": 17
    },
    {
     "cell_type": "code",
     "collapsed": false,
     "input": [
      "d[d.type > 0][d.interesting > 0]['size'].apply(np.log2).round().hist()"
     ],
     "language": "python",
     "metadata": {},
     "outputs": [
      {
       "metadata": {},
       "output_type": "pyout",
       "prompt_number": 18,
       "text": [
        "<matplotlib.axes.AxesSubplot at 0x7fe04a6e4fd0>"
       ]
      }
     ],
     "prompt_number": 18
    },
    {
     "cell_type": "code",
     "collapsed": false,
     "input": [
      "di = d[d.interesting > 0]\n",
      "dn = d[d.interesting == 0]\n",
      "modified_mem = [ a * b for (a, b) in zip(di['size'], di['type']) ]\n",
      "active_mem = list(itt.accumulate(modified_mem))\n",
      "allocd_mem = list(itt.accumulate(modified_mem,\n",
      "                                 lambda x, y: x + y if y > 0 else x))"
     ],
     "language": "python",
     "metadata": {},
     "outputs": [],
     "prompt_number": 19
    },
    {
     "cell_type": "code",
     "collapsed": false,
     "input": [
      "# plt.plot(allocd_mem, active_mem)\n",
      "mem_int = [ a * b * c for (a, b, c) in zip(d['size'], d['type'], d['interesting']) ]\n",
      "mem_other = [ a * b if c == 0 else 0 for (a, b, c) in zip(d['size'], d['type'], d['interesting']) ]\n",
      "interesting_accumulation = list(itt.accumulate(mem_int, lambda x, y: x+y if y>0 else x))"
     ],
     "language": "python",
     "metadata": {},
     "outputs": [],
     "prompt_number": 20
    },
    {
     "cell_type": "code",
     "collapsed": false,
     "input": [
      "plt.plot(interesting_accumulation, list(itt.accumulate(mem_int)), \"b\", interesting_accumulation, list(itt.accumulate(mem_other)), \"r\")"
     ],
     "language": "python",
     "metadata": {},
     "outputs": [
      {
       "metadata": {},
       "output_type": "pyout",
       "prompt_number": 21,
       "text": [
        "[<matplotlib.lines.Line2D at 0x7fe049ea9610>,\n",
        " <matplotlib.lines.Line2D at 0x7fe049ea9a10>]"
       ]
      }
     ],
     "prompt_number": 21
    },
    {
     "cell_type": "code",
     "collapsed": false,
     "input": [
      "scaled_sizes = di.dropna(how='any')['size'].apply(np.log2).round()\n",
      "unscaled_lifespans = d.dropna(how='any')['lifespan']\n",
      "workset = pd.DataFrame({'size' : scaled_sizes,\n",
      "                        'lifespan' : unscaled_lifespans})\n",
      "rows = np.random.choice(workset.index.values, 4096)\n",
      "sampled_workset = workset.ix[rows]\n",
      "\n",
      "plot = sampled_workset.boxplot(by='size', column='lifespan')\n",
      "plt.yscale('log', basey=2)"
     ],
     "language": "python",
     "metadata": {},
     "outputs": [],
     "prompt_number": 8
    },
    {
     "cell_type": "code",
     "collapsed": false,
     "input": [],
     "language": "python",
     "metadata": {},
     "outputs": [],
     "prompt_number": 6
    }
   ],
   "metadata": {}
  }
 ]
}